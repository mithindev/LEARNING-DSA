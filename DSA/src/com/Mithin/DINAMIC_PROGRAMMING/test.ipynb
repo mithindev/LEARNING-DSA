{
 "cells": [
  {
   "cell_type": "code",
   "execution_count": null,
   "metadata": {},
   "outputs": [],
   "source": [
    "class Solution:\n",
    "    def LCS(self, text1: str, text2: str) -> int:\n",
    "        if len(text1) == 0 or len(text2) == 0:\n",
    "            return 0\n",
    "        elif text1[len(text1) - 1] == text2[len(text2) - 1]:\n",
    "            return 1 + self.LCS(text1[:len(text1) - 1], text2[:len(text2) - 1])\n",
    "        else:\n",
    "            return max(self.LCS(text1[:len(text1)], text2[:len(text2) - 1]), self.LCS(text1[:len(text1) - 1], text2[:len(text2)]))\n"
   ]
  }
 ],
 "metadata": {
  "language_info": {
   "name": "python"
  },
  "orig_nbformat": 4
 },
 "nbformat": 4,
 "nbformat_minor": 2
}
